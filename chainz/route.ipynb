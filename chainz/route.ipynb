{
 "cells": [
  {
   "cell_type": "code",
   "execution_count": 21,
   "id": "e19da933",
   "metadata": {},
   "outputs": [
    {
     "name": "stderr",
     "output_type": "stream",
     "text": [
      "Device set to use cpu\n"
     ]
    }
   ],
   "source": [
    "from langchain.prompts import PromptTemplate\n",
    "from langchain_huggingface import HuggingFacePipeline\n",
    "from dotenv import load_dotenv  \n",
    "import os\n",
    "\n",
    "from langchain.chains.router.llm_router import LLMRouterChain, RouterOutputParser\n",
    "from langchain_core.output_parsers import StrOutputParser\n",
    "\n",
    "\n",
    "load_dotenv()\n",
    "keys = os.getenv(\"HUGGING_FACE_TOKEN\")\n",
    "\n",
    "llm = HuggingFacePipeline.from_model_id(\n",
    "    model_id=\"gpt2\",\n",
    "    task=\"text-generation\",\n",
    "    model_kwargs={\n",
    "        'temperature': 0.7,\n",
    "        \"max_length\": 400,\n",
    "        \"do_sample\": True,\n",
    "        \"pad_token_id\": 50256\n",
    "    }\n",
    ")\n",
    "\n",
    "book_prompt = PromptTemplate(\n",
    "    input_variables=[\"query\"],\n",
    "    template=\"You are a book expert. Answer the following question about books: {query}\",\n",
    "    output_parser=RouterOutputParser()\n",
    ")\n",
    "\n",
    "book_chain = book_prompt | llm | StrOutputParser()\n",
    "\n",
    "electronics_prompt = PromptTemplate(\n",
    "    input_variables=[\"query\"],\n",
    "    template=\"You are an electronics expert. Answer the following question about electronics: {query}\",\n",
    "    output_parser=RouterOutputParser()\n",
    ")\n",
    "\n",
    "electronics_chain = electronics_prompt | llm | StrOutputParser()\n",
    "\n",
    "\n",
    "default_prompt = PromptTemplate(\n",
    "    input_variables=[\"input\"],\n",
    "    template=\"Answer this general question: {input}\"\n",
    ")\n",
    "general_chain = default_prompt | llm | StrOutputParser()\n"
   ]
  },
  {
   "cell_type": "markdown",
   "id": "1c2501fc",
   "metadata": {},
   "source": [
    "Creating a router"
   ]
  },
  {
   "cell_type": "code",
   "execution_count": 22,
   "id": "298bf9e9",
   "metadata": {},
   "outputs": [],
   "source": [
    "from langchain_core.runnables import RunnableBranch\n",
    "\n",
    "routing_chain = RunnableBranch(\n",
    "    # Route to electronics chain if electronics keywords are found\n",
    "    (lambda x: any(word in x[\"input\"].lower() for word in \n",
    "     [\"electronic\", \"circuit\", \"voltage\", \"current\", \"resistor\", \"capacitor\", \n",
    "      \"transistor\", \"computer\", \"hardware\", \"electrical\", \"technology\"]), \n",
    "     electronics_chain),\n",
    "    \n",
    "    # Route to book chain if book keywords are found\n",
    "    (lambda x: any(word in x[\"input\"].lower() for word in \n",
    "     [\"book\", \"author\", \"novel\", \"literature\", \"reading\", \"story\", \"chapter\", \n",
    "      \"fiction\", \"recommend\", \"library\", \"write\", \"wrote\"]), \n",
    "     book_chain),\n",
    "    \n",
    "    # Default to general chain\n",
    "    general_chain\n",
    ")"
   ]
  },
  {
   "cell_type": "code",
   "execution_count": null,
   "id": "021992cf",
   "metadata": {},
   "outputs": [
    {
     "name": "stdout",
     "output_type": "stream",
     "text": [
      "Testing the routing system using | operator:\n",
      "\n",
      "Question: What is the best way to learn circuit analysis?\n",
      "Error: 'input'\n",
      "--------------------------------------------------\n",
      "Question: Can you recommend a good fantasy book?\n",
      "Error: 'input'\n",
      "--------------------------------------------------\n",
      "Question: What's the weather like today?\n",
      "Error: 'input'\n",
      "--------------------------------------------------\n",
      "Question: How do resistors work in electronic circuits?\n",
      "Error: 'input'\n",
      "--------------------------------------------------\n",
      "Question: Who wrote the book 1984?\n",
      "Error: 'input'\n",
      "--------------------------------------------------\n",
      "Question: What is voltage in electrical circuits?\n",
      "Error: 'input'\n",
      "--------------------------------------------------\n",
      "Question: What are some good science fiction novels?\n",
      "Error: 'input'\n",
      "--------------------------------------------------\n"
     ]
    },
    {
     "ename": "",
     "evalue": "",
     "output_type": "error",
     "traceback": [
      "\u001b[1;31mThe Kernel crashed while executing code in the current cell or a previous cell. \n",
      "\u001b[1;31mPlease review the code in the cell(s) to identify a possible cause of the failure. \n",
      "\u001b[1;31mClick <a href='https://aka.ms/vscodeJupyterKernelCrash'>here</a> for more info. \n",
      "\u001b[1;31mView Jupyter <a href='command:jupyter.viewOutput'>log</a> for further details."
     ]
    }
   ],
   "source": [
    "test_questions = [\n",
    "    \"What is the best way to learn circuit analysis?\",\n",
    "    \"Can you recommend a good fantasy book?\",\n",
    "    \"What's the weather like today?\",\n",
    "    \"How do resistors work in electronic circuits?\",\n",
    "    \"Who wrote the book 1984?\",\n",
    "    \"What is voltage in electrical circuits?\",\n",
    "    \"What are some good science fiction novels?\"\n",
    "]\n",
    "\n",
    "print(\"Testing the routing system using | operator:\\n\")\n",
    "for question in test_questions:\n",
    "    print(f\"Question: {question}\")\n",
    "    try:\n",
    "        result = routing_chain.invoke({\"query\": question})\n",
    "        print(f\"Answer: {result}\")\n",
    "        print(\"-\" * 50)\n",
    "    except Exception as e:\n",
    "        print(f\"Error: {e}\")\n",
    "        print(\"-\" * 50)"
   ]
  },
  {
   "cell_type": "code",
   "execution_count": null,
   "id": "8f132c9a",
   "metadata": {},
   "outputs": [],
   "source": []
  }
 ],
 "metadata": {
  "kernelspec": {
   "display_name": "myenv",
   "language": "python",
   "name": "python3"
  },
  "language_info": {
   "codemirror_mode": {
    "name": "ipython",
    "version": 3
   },
   "file_extension": ".py",
   "mimetype": "text/x-python",
   "name": "python",
   "nbconvert_exporter": "python",
   "pygments_lexer": "ipython3",
   "version": "3.11.5"
  }
 },
 "nbformat": 4,
 "nbformat_minor": 5
}
